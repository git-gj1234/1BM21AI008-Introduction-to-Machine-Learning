{
 "cells": [
  {
   "cell_type": "code",
   "execution_count": 1,
   "metadata": {},
   "outputs": [
    {
     "name": "stdout",
     "output_type": "stream",
     "text": [
      "[['sunny', 'warm', 'normal', 'strong', 'warm', 'same', 'yes'], ['sunny', 'warm', 'high', 'strong', 'warm', 'same', 'yes'], ['rainy', 'cold', 'high', 'strong', 'warm', 'change', 'no'], ['sunny', 'warm', 'high', 'strong', 'cool', 'change', 'yes']]\n"
     ]
    }
   ],
   "source": [
    "import csv\n",
    "a = []\n",
    "with open('enjoysport.csv', 'r') as csvfile:\n",
    "    next(csvfile)\n",
    "    for row in csv.reader(csvfile):\n",
    "        a.append(row)\n",
    "print(a)"
   ]
  },
  {
   "cell_type": "code",
   "execution_count": 3,
   "metadata": {},
   "outputs": [
    {
     "name": "stdout",
     "output_type": "stream",
     "text": [
      "initial hypothesis is: \n",
      "['0', '0', '0', '0', '0', '0']\n"
     ]
    }
   ],
   "source": [
    "n = len(a[0])-1\n",
    "print(\"initial hypothesis is: \")\n",
    "hypothesis = ['0']*n\n",
    "print(hypothesis)"
   ]
  },
  {
   "cell_type": "code",
   "execution_count": 4,
   "metadata": {},
   "outputs": [
    {
     "name": "stdout",
     "output_type": "stream",
     "text": [
      "h:  ['sunny', 'warm', 'normal', 'strong', 'warm', 'same']\n",
      "h:  ['sunny', 'warm', '?', 'strong', 'warm', 'same']\n",
      "h:  ['sunny', 'warm', '?', 'strong', 'warm', 'same']\n",
      "h:  ['sunny', 'warm', '?', 'strong', '?', '?']\n"
     ]
    }
   ],
   "source": [
    "for i in range(0, len(a)):\n",
    "    if(a[i][n] == 'yes'):\n",
    "        for j in range(n):\n",
    "            if(hypothesis[j] == '0' or hypothesis[j] == a[i][j]):\n",
    "                hypothesis[j] = a[i][j]\n",
    "            else:\n",
    "                hypothesis[j] = '?'\n",
    "        print(\"h: \", hypothesis)\n",
    "    else:\n",
    "        print(\"h: \", hypothesis)"
   ]
  },
  {
   "cell_type": "code",
   "execution_count": null,
   "metadata": {},
   "outputs": [],
   "source": []
  }
 ],
 "metadata": {
  "kernelspec": {
   "display_name": "cuda_compute",
   "language": "python",
   "name": "python3"
  },
  "language_info": {
   "codemirror_mode": {
    "name": "ipython",
    "version": 3
   },
   "file_extension": ".py",
   "mimetype": "text/x-python",
   "name": "python",
   "nbconvert_exporter": "python",
   "pygments_lexer": "ipython3",
   "version": "3.9.18"
  }
 },
 "nbformat": 4,
 "nbformat_minor": 2
}
