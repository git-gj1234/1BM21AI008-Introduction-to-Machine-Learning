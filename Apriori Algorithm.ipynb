{
 "cells": [
  {
   "cell_type": "code",
   "execution_count": 2,
   "metadata": {},
   "outputs": [
    {
     "name": "stdout",
     "output_type": "stream",
     "text": [
      "Frequent Itemsets:\n",
      "    support                itemsets\n",
      "0     0.375                  (Beer)\n",
      "1     0.625                 (Bread)\n",
      "2     0.375                (Butter)\n",
      "3     0.500               (Diapers)\n",
      "4     0.500                  (Milk)\n",
      "5     0.250           (Beer, Bread)\n",
      "6     0.250         (Beer, Diapers)\n",
      "7     0.125            (Beer, Milk)\n",
      "8     0.250         (Butter, Bread)\n",
      "9     0.125        (Diapers, Bread)\n",
      "10    0.250           (Milk, Bread)\n",
      "11    0.125       (Diapers, Butter)\n",
      "12    0.125          (Milk, Butter)\n",
      "13    0.250         (Milk, Diapers)\n",
      "14    0.125  (Beer, Diapers, Bread)\n",
      "15    0.125   (Milk, Beer, Diapers)\n",
      "16    0.125   (Milk, Butter, Bread)\n",
      "Association Rules:\n",
      "        antecedents consequents  antecedent support  consequent support  \\\n",
      "0  (Diapers, Bread)      (Beer)               0.125               0.375   \n",
      "1      (Beer, Milk)   (Diapers)               0.125               0.500   \n",
      "2    (Milk, Butter)     (Bread)               0.125               0.625   \n",
      "\n",
      "   support  confidence      lift  leverage  conviction  zhangs_metric  \n",
      "0    0.125         1.0  2.666667  0.078125         inf       0.714286  \n",
      "1    0.125         1.0  2.000000  0.062500         inf       0.571429  \n",
      "2    0.125         1.0  1.600000  0.046875         inf       0.428571  \n"
     ]
    }
   ],
   "source": [
    "from mlxtend.preprocessing import TransactionEncoder\n",
    "from mlxtend.frequent_patterns import apriori, association_rules\n",
    "import pandas as pd\n",
    "\n",
    "transactions = [['Milk', 'Bread', 'Butter'],\n",
    "                ['Milk', 'Bread'],\n",
    "                ['Milk', 'Diapers'],\n",
    "                ['Milk', 'Beer', 'Diapers'],\n",
    "                ['Bread', 'Butter'],\n",
    "                ['Bread', 'Beer'],\n",
    "                ['Butter', 'Diapers'],\n",
    "                ['Bread', 'Beer', 'Diapers']]\n",
    "\n",
    "encoder = TransactionEncoder()\n",
    "onehot = encoder.fit_transform(transactions)\n",
    "df = pd.DataFrame(onehot, columns=encoder.columns_)\n",
    "\n",
    "frequent_itemsets = apriori(df, min_support=0.1, use_colnames=True)\n",
    "rules = association_rules(frequent_itemsets, metric=\"confidence\", min_threshold=0.7)\n",
    "\n",
    "print(\"Frequent Itemsets:\")\n",
    "print(frequent_itemsets)\n",
    "\n",
    "print(\"Association Rules:\")\n",
    "print(rules)"
   ]
  }
 ],
 "metadata": {
  "kernelspec": {
   "display_name": "cuda_compute",
   "language": "python",
   "name": "python3"
  },
  "language_info": {
   "codemirror_mode": {
    "name": "ipython",
    "version": 3
   },
   "file_extension": ".py",
   "mimetype": "text/x-python",
   "name": "python",
   "nbconvert_exporter": "python",
   "pygments_lexer": "ipython3",
   "version": "3.9.18"
  }
 },
 "nbformat": 4,
 "nbformat_minor": 2
}
