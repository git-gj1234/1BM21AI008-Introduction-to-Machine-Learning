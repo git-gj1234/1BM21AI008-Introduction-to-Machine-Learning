{
 "cells": [
  {
   "cell_type": "code",
   "execution_count": 1,
   "metadata": {},
   "outputs": [
    {
     "name": "stdout",
     "output_type": "stream",
     "text": [
      "Ensemble Accuracy 1: 1.0\n",
      "Ensemble Accuracy 2: 0.9333333333333333\n",
      "Ensemble Accuracy 3: 1.0\n",
      "Ensemble Accuracy : 1.0\n"
     ]
    }
   ],
   "source": [
    "from sklearn.datasets import load_iris\n",
    "from sklearn.model_selection import train_test_split\n",
    "from sklearn.ensemble import RandomForestClassifier\n",
    "from sklearn.metrics import accuracy_score\n",
    "from scipy.stats import mode\n",
    "\n",
    "data = load_iris()\n",
    "X, y = data.data, data.target\n",
    "\n",
    "X_train, X_test, y_train, y_test = train_test_split(X, y, test_size=0.2, random_state=42)\n",
    "\n",
    "rf_classifier_1 = RandomForestClassifier(n_estimators=9, random_state=42)\n",
    "rf_classifier_2 = RandomForestClassifier(n_estimators=1, random_state=7)\n",
    "rf_classifier_3 = RandomForestClassifier(n_estimators=8, random_state=0)\n",
    "\n",
    "rf_classifier_1.fit(X_train, y_train)\n",
    "rf_classifier_2.fit(X_train, y_train)\n",
    "rf_classifier_3.fit(X_train, y_train)\n",
    "\n",
    "predictions_1 = rf_classifier_1.predict(X_train)\n",
    "predictions_2 = rf_classifier_2.predict(X_train)\n",
    "predictions_3 = rf_classifier_3.predict(X_train)\n",
    "\n",
    "accuracy_1 = accuracy_score(y_train, predictions_1)\n",
    "accuracy_2 = accuracy_score(y_train, predictions_2)\n",
    "accuracy_3 = accuracy_score(y_train, predictions_3)\n",
    "\n",
    "ensemble_accuracy , _ = mode([accuracy_1, accuracy_2, accuracy_3], axis=0)\n",
    "\n",
    "print(f'Ensemble Accuracy 1: {accuracy_1}')\n",
    "print(f'Ensemble Accuracy 2: {accuracy_2}')\n",
    "print(f'Ensemble Accuracy 3: {accuracy_3}')\n",
    "print(f'Ensemble Accuracy : {ensemble_accuracy}')"
   ]
  }
 ],
 "metadata": {
  "kernelspec": {
   "display_name": "cuda_compute",
   "language": "python",
   "name": "python3"
  },
  "language_info": {
   "codemirror_mode": {
    "name": "ipython",
    "version": 3
   },
   "file_extension": ".py",
   "mimetype": "text/x-python",
   "name": "python",
   "nbconvert_exporter": "python",
   "pygments_lexer": "ipython3",
   "version": "3.9.18"
  }
 },
 "nbformat": 4,
 "nbformat_minor": 2
}
