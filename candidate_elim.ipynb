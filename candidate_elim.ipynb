{
 "cells": [
  {
   "cell_type": "code",
   "execution_count": 1,
   "metadata": {},
   "outputs": [],
   "source": [
    "import numpy as np \n",
    "import pandas as pd "
   ]
  },
  {
   "cell_type": "code",
   "execution_count": 9,
   "metadata": {},
   "outputs": [],
   "source": [
    "data = pd.read_csv(\"enjoysport.csv\")\n",
    "\n",
    "concepts = np.array(data.iloc[:,:-1])\n",
    "target = np.array(data.iloc[:,-1])\n"
   ]
  },
  {
   "cell_type": "code",
   "execution_count": 10,
   "metadata": {},
   "outputs": [],
   "source": [
    "def learn(concepts, target):\n",
    "    specifc_h = concepts[0].copy()\n",
    "    general_h = [['?' for i in range(len(specifc_h))] for j in range(len(specifc_h))]\n",
    "    for i, h in enumerate(concepts):\n",
    "        if(target[i] == 'yes'):\n",
    "            print(\"yes: \", concepts[i])\n",
    "            for x in range(len(specifc_h)):\n",
    "                if(specifc_h[x] == h[x]):\n",
    "                    specifc_h[x] = '?'\n",
    "                    general_h[x][x] = '?'\n",
    "        elif(target[i] == 'no'):\n",
    "            print(\"no: \", concepts[i])\n",
    "            for x in range(len(specifc_h)):\n",
    "                if(specifc_h[x] == h[x]):\n",
    "                    general_h[x][x] = specifc_h[x]\n",
    "                else:\n",
    "                    general_h[x][x] = '?'\n",
    "        print(general_h)\n",
    "        print(specifc_h)\n",
    "        print(\"-\"*65)"
   ]
  },
  {
   "cell_type": "code",
   "execution_count": 12,
   "metadata": {},
   "outputs": [
    {
     "name": "stdout",
     "output_type": "stream",
     "text": [
      "yes:  ['sunny' 'warm' 'normal' 'strong' 'warm' 'same']\n",
      "[['?', '?', '?', '?', '?', '?'], ['?', '?', '?', '?', '?', '?'], ['?', '?', '?', '?', '?', '?'], ['?', '?', '?', '?', '?', '?'], ['?', '?', '?', '?', '?', '?'], ['?', '?', '?', '?', '?', '?']]\n",
      "['?' '?' '?' '?' '?' '?']\n",
      "-----------------------------------------------------------------\n",
      "yes:  ['sunny' 'warm' 'high' 'strong' 'warm' 'same']\n",
      "[['?', '?', '?', '?', '?', '?'], ['?', '?', '?', '?', '?', '?'], ['?', '?', '?', '?', '?', '?'], ['?', '?', '?', '?', '?', '?'], ['?', '?', '?', '?', '?', '?'], ['?', '?', '?', '?', '?', '?']]\n",
      "['?' '?' '?' '?' '?' '?']\n",
      "-----------------------------------------------------------------\n",
      "no:  ['rainy' 'cold' 'high' 'strong' 'warm' 'change']\n",
      "[['?', '?', '?', '?', '?', '?'], ['?', '?', '?', '?', '?', '?'], ['?', '?', '?', '?', '?', '?'], ['?', '?', '?', '?', '?', '?'], ['?', '?', '?', '?', '?', '?'], ['?', '?', '?', '?', '?', '?']]\n",
      "['?' '?' '?' '?' '?' '?']\n",
      "-----------------------------------------------------------------\n",
      "yes:  ['sunny' 'warm' 'high' 'strong' 'cool' 'change']\n",
      "[['?', '?', '?', '?', '?', '?'], ['?', '?', '?', '?', '?', '?'], ['?', '?', '?', '?', '?', '?'], ['?', '?', '?', '?', '?', '?'], ['?', '?', '?', '?', '?', '?'], ['?', '?', '?', '?', '?', '?']]\n",
      "['?' '?' '?' '?' '?' '?']\n",
      "-----------------------------------------------------------------\n"
     ]
    }
   ],
   "source": [
    "\n",
    "learn(concepts, target)"
   ]
  },
  {
   "cell_type": "code",
   "execution_count": null,
   "metadata": {},
   "outputs": [],
   "source": []
  }
 ],
 "metadata": {
  "kernelspec": {
   "display_name": "cuda_compute",
   "language": "python",
   "name": "python3"
  },
  "language_info": {
   "codemirror_mode": {
    "name": "ipython",
    "version": 3
   },
   "file_extension": ".py",
   "mimetype": "text/x-python",
   "name": "python",
   "nbconvert_exporter": "python",
   "pygments_lexer": "ipython3",
   "version": "3.9.18"
  }
 },
 "nbformat": 4,
 "nbformat_minor": 2
}
